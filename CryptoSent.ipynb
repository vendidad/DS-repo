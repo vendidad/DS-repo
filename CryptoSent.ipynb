{
 "cells": [
  {
   "cell_type": "markdown",
   "metadata": {},
   "source": [
    "### Sentiment Analysis on Twitter"
   ]
  },
  {
   "cell_type": "code",
   "execution_count": 3,
   "metadata": {},
   "outputs": [],
   "source": [
    "import os\n",
    "from tweepy.streaming import StreamListener\n",
    "from tweepy import OAuthHandler\n",
    "from tweepy import Stream\n",
    "import time\n",
    "from textblob import TextBlob\n",
    "import csv"
   ]
  },
  {
   "cell_type": "code",
   "execution_count": 4,
   "metadata": {},
   "outputs": [],
   "source": [
    "consumer_key = os.environ['CONSUMER_KEY']\n",
    "consumer_secret = os.environ['CONSUMER_SECRET']\n",
    "access_token = os.environ['ACCESS_TOKEN']\n",
    "access_token_secret = os.environ['ACCESS_TOKEN_SECRET']"
   ]
  },
  {
   "cell_type": "code",
   "execution_count": 5,
   "metadata": {},
   "outputs": [],
   "source": [
    "class listener(StreamListener):\n",
    "\n",
    "    def on_data(self, data):\n",
    "        csv_file = 'data/CryptoSent.csv'\n",
    "        timestamp = data.split('_at\":\"')[1].split('\",\"id\":')[0]\n",
    "        tweet = data.split(',\"text\":')[1].split(',\"source\":')[0]\n",
    "        analysis = TextBlob(tweet)\n",
    "        polarity = analysis.sentiment.polarity\n",
    "        subjectivity = analysis.sentiment.subjectivity\n",
    "        with open (csv_file, 'a', newline='') as csvfile:\n",
    "            cryptowriter = csv.writer(csvfile, delimiter=',', quoting=csv.QUOTE_MINIMAL)\n",
    "            cryptowriter.writerow([timestamp, '{:.2f}'.format(polarity), '{:.2f}'.format(subjectivity), tweet])\n",
    "#         with open ('CryptoSent.csv', 'a', newline='') as csvfile:\n",
    "#             colnames = ['Timestamp', 'Sentiment', 'Tweet']\n",
    "#             cryptowriter = csv.DictWriter(csvfile, delimiter=',', quoting=csv.QUOTE_MINIMAL, fieldnames=colnames)\n",
    "#             cryptowriter.writeheader()\n",
    "#             cryptowriter.writerow({'Timestamp':timestamp, 'Sentiment':analysis.sentiment, 'Tweet': tweet})\n",
    "        return(True)\n",
    "\n",
    "    def on_error(self, status):\n",
    "        print (status)\n",
    "\n",
    "def main():\n",
    "    csv_file = 'data/CryptoSent.csv'\n",
    "    with open (csv_file, 'w', newline='') as csvfile:\n",
    "        cryptowriter = csv.writer(csvfile, delimiter=',', quoting=csv.QUOTE_MINIMAL)\n",
    "        cryptowriter.writerow(['Timestamp', 'Polarity', 'Subjectivity', 'Tweet'])\n",
    "    auth = OAuthHandler(consumer_key, consumer_secret)\n",
    "    auth.set_access_token(access_token, access_token_secret)\n",
    "\n",
    "    twitterStream = Stream(auth, listener())\n",
    "    twitterStream.filter(track=['Crypto', 'Cryptocurrency', 'Ripple', 'Bitcoin', 'Ethereum'], async=True)\n",
    "        \n",
    "if __name__ == \"__main__\":\n",
    "    main()\n"
   ]
  },
  {
   "cell_type": "code",
   "execution_count": null,
   "metadata": {
    "collapsed": true
   },
   "outputs": [],
   "source": []
  }
 ],
 "metadata": {
  "anaconda-cloud": {},
  "kernelspec": {
   "display_name": "Python 3",
   "language": "python",
   "name": "python3"
  },
  "language_info": {
   "codemirror_mode": {
    "name": "ipython",
    "version": 3
   },
   "file_extension": ".py",
   "mimetype": "text/x-python",
   "name": "python",
   "nbconvert_exporter": "python",
   "pygments_lexer": "ipython3",
   "version": "3.6.4"
  }
 },
 "nbformat": 4,
 "nbformat_minor": 1
}
