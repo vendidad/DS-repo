{
 "cells": [
  {
   "cell_type": "markdown",
   "metadata": {},
   "source": [
    "### Import relevant modules"
   ]
  },
  {
   "cell_type": "code",
   "execution_count": 1,
   "metadata": {},
   "outputs": [],
   "source": [
    "import numpy as np\n",
    "import pandas as pd\n",
    "from sklearn.model_selection import train_test_split\n",
    "import matplotlib.pyplot as plt\n",
    "%matplotlib inline"
   ]
  },
  {
   "cell_type": "markdown",
   "metadata": {},
   "source": [
    "### Read data"
   ]
  },
  {
   "cell_type": "code",
   "execution_count": 2,
   "metadata": {},
   "outputs": [
    {
     "data": {
      "text/html": [
       "<div>\n",
       "<style scoped>\n",
       "    .dataframe tbody tr th:only-of-type {\n",
       "        vertical-align: middle;\n",
       "    }\n",
       "\n",
       "    .dataframe tbody tr th {\n",
       "        vertical-align: top;\n",
       "    }\n",
       "\n",
       "    .dataframe thead th {\n",
       "        text-align: right;\n",
       "    }\n",
       "</style>\n",
       "<table border=\"1\" class=\"dataframe\">\n",
       "  <thead>\n",
       "    <tr style=\"text-align: right;\">\n",
       "      <th></th>\n",
       "      <th>symboling</th>\n",
       "      <th>normalized-losses</th>\n",
       "      <th>make</th>\n",
       "      <th>fuel-type</th>\n",
       "      <th>aspiration</th>\n",
       "      <th>num-of-doors</th>\n",
       "      <th>body-style</th>\n",
       "      <th>drive-wheels</th>\n",
       "      <th>engine-location</th>\n",
       "      <th>wheel-base</th>\n",
       "      <th>...</th>\n",
       "      <th>engine-size</th>\n",
       "      <th>fuel-system</th>\n",
       "      <th>bore</th>\n",
       "      <th>stroke</th>\n",
       "      <th>compression-ratio</th>\n",
       "      <th>horsepower</th>\n",
       "      <th>peak-rpm</th>\n",
       "      <th>city-mpg</th>\n",
       "      <th>highway-mpg</th>\n",
       "      <th>price</th>\n",
       "    </tr>\n",
       "  </thead>\n",
       "  <tbody>\n",
       "    <tr>\n",
       "      <th>0</th>\n",
       "      <td>3</td>\n",
       "      <td>0</td>\n",
       "      <td>alfa-romero</td>\n",
       "      <td>gas</td>\n",
       "      <td>std</td>\n",
       "      <td>two</td>\n",
       "      <td>convertible</td>\n",
       "      <td>rwd</td>\n",
       "      <td>front</td>\n",
       "      <td>88.6</td>\n",
       "      <td>...</td>\n",
       "      <td>130</td>\n",
       "      <td>mpfi</td>\n",
       "      <td>3.47</td>\n",
       "      <td>2.68</td>\n",
       "      <td>9.0</td>\n",
       "      <td>111</td>\n",
       "      <td>5000</td>\n",
       "      <td>21</td>\n",
       "      <td>27</td>\n",
       "      <td>13495</td>\n",
       "    </tr>\n",
       "    <tr>\n",
       "      <th>1</th>\n",
       "      <td>3</td>\n",
       "      <td>0</td>\n",
       "      <td>alfa-romero</td>\n",
       "      <td>gas</td>\n",
       "      <td>std</td>\n",
       "      <td>two</td>\n",
       "      <td>convertible</td>\n",
       "      <td>rwd</td>\n",
       "      <td>front</td>\n",
       "      <td>88.6</td>\n",
       "      <td>...</td>\n",
       "      <td>130</td>\n",
       "      <td>mpfi</td>\n",
       "      <td>3.47</td>\n",
       "      <td>2.68</td>\n",
       "      <td>9.0</td>\n",
       "      <td>111</td>\n",
       "      <td>5000</td>\n",
       "      <td>21</td>\n",
       "      <td>27</td>\n",
       "      <td>16500</td>\n",
       "    </tr>\n",
       "    <tr>\n",
       "      <th>2</th>\n",
       "      <td>1</td>\n",
       "      <td>0</td>\n",
       "      <td>alfa-romero</td>\n",
       "      <td>gas</td>\n",
       "      <td>std</td>\n",
       "      <td>two</td>\n",
       "      <td>hatchback</td>\n",
       "      <td>rwd</td>\n",
       "      <td>front</td>\n",
       "      <td>94.5</td>\n",
       "      <td>...</td>\n",
       "      <td>152</td>\n",
       "      <td>mpfi</td>\n",
       "      <td>2.68</td>\n",
       "      <td>3.47</td>\n",
       "      <td>9.0</td>\n",
       "      <td>154</td>\n",
       "      <td>5000</td>\n",
       "      <td>19</td>\n",
       "      <td>26</td>\n",
       "      <td>16500</td>\n",
       "    </tr>\n",
       "    <tr>\n",
       "      <th>3</th>\n",
       "      <td>2</td>\n",
       "      <td>164</td>\n",
       "      <td>audi</td>\n",
       "      <td>gas</td>\n",
       "      <td>std</td>\n",
       "      <td>four</td>\n",
       "      <td>sedan</td>\n",
       "      <td>fwd</td>\n",
       "      <td>front</td>\n",
       "      <td>99.8</td>\n",
       "      <td>...</td>\n",
       "      <td>109</td>\n",
       "      <td>mpfi</td>\n",
       "      <td>3.19</td>\n",
       "      <td>3.40</td>\n",
       "      <td>10.0</td>\n",
       "      <td>102</td>\n",
       "      <td>5500</td>\n",
       "      <td>24</td>\n",
       "      <td>30</td>\n",
       "      <td>13950</td>\n",
       "    </tr>\n",
       "    <tr>\n",
       "      <th>4</th>\n",
       "      <td>2</td>\n",
       "      <td>164</td>\n",
       "      <td>audi</td>\n",
       "      <td>gas</td>\n",
       "      <td>std</td>\n",
       "      <td>four</td>\n",
       "      <td>sedan</td>\n",
       "      <td>4wd</td>\n",
       "      <td>front</td>\n",
       "      <td>99.4</td>\n",
       "      <td>...</td>\n",
       "      <td>136</td>\n",
       "      <td>mpfi</td>\n",
       "      <td>3.19</td>\n",
       "      <td>3.40</td>\n",
       "      <td>8.0</td>\n",
       "      <td>115</td>\n",
       "      <td>5500</td>\n",
       "      <td>18</td>\n",
       "      <td>22</td>\n",
       "      <td>17450</td>\n",
       "    </tr>\n",
       "  </tbody>\n",
       "</table>\n",
       "<p>5 rows × 26 columns</p>\n",
       "</div>"
      ],
      "text/plain": [
       "   symboling normalized-losses         make fuel-type aspiration num-of-doors  \\\n",
       "0          3                 0  alfa-romero       gas        std          two   \n",
       "1          3                 0  alfa-romero       gas        std          two   \n",
       "2          1                 0  alfa-romero       gas        std          two   \n",
       "3          2               164         audi       gas        std         four   \n",
       "4          2               164         audi       gas        std         four   \n",
       "\n",
       "    body-style drive-wheels engine-location  wheel-base  ...    engine-size  \\\n",
       "0  convertible          rwd           front        88.6  ...            130   \n",
       "1  convertible          rwd           front        88.6  ...            130   \n",
       "2    hatchback          rwd           front        94.5  ...            152   \n",
       "3        sedan          fwd           front        99.8  ...            109   \n",
       "4        sedan          4wd           front        99.4  ...            136   \n",
       "\n",
       "   fuel-system  bore  stroke compression-ratio horsepower  peak-rpm city-mpg  \\\n",
       "0         mpfi  3.47    2.68               9.0        111      5000       21   \n",
       "1         mpfi  3.47    2.68               9.0        111      5000       21   \n",
       "2         mpfi  2.68    3.47               9.0        154      5000       19   \n",
       "3         mpfi  3.19    3.40              10.0        102      5500       24   \n",
       "4         mpfi  3.19    3.40               8.0        115      5500       18   \n",
       "\n",
       "  highway-mpg  price  \n",
       "0          27  13495  \n",
       "1          27  16500  \n",
       "2          26  16500  \n",
       "3          30  13950  \n",
       "4          22  17450  \n",
       "\n",
       "[5 rows x 26 columns]"
      ]
     },
     "execution_count": 2,
     "metadata": {},
     "output_type": "execute_result"
    }
   ],
   "source": [
    "df = pd.read_csv('data/Automobile price data _Raw_.csv')\n",
    "df.replace('?',0, inplace=True)                                     # Replace '?' with '0' in dataset\n",
    "df.head()"
   ]
  },
  {
   "cell_type": "markdown",
   "metadata": {},
   "source": [
    "### Prepare train & test data sets"
   ]
  },
  {
   "cell_type": "code",
   "execution_count": 3,
   "metadata": {},
   "outputs": [
    {
     "data": {
      "text/plain": [
       "(pandas.core.frame.DataFrame,\n",
       " (205, 65),\n",
       " (205, 1),\n",
       " (143, 65),\n",
       " (143, 1),\n",
       " (62, 65),\n",
       " (62, 1))"
      ]
     },
     "execution_count": 3,
     "metadata": {},
     "output_type": "execute_result"
    }
   ],
   "source": [
    "X = df.iloc[:,:-1]\n",
    "X.drop(['engine-location'],axis=1,inplace=True)\n",
    "X = pd.get_dummies(X, columns=['make','fuel-type','aspiration','num-of-doors','body-style','drive-wheels',\\\n",
    "                            'engine-type','num-of-cylinders','fuel-system'], drop_first=True)\n",
    "y = df.iloc[:,-1:]\n",
    "\n",
    "(X_train, X_test, y_train, y_test) = train_test_split(X, y, test_size=0.3)\n",
    "X_train = X_train.apply(pd.to_numeric)\n",
    "X_test = X_test.apply(pd.to_numeric)\n",
    "y_train = y_train.apply(pd.to_numeric)\n",
    "y_test = y_test.apply(pd.to_numeric)\n",
    "type(X), X.shape, y.shape, X_train.shape,  y_train.shape, X_test.shape, y_test.shape"
   ]
  },
  {
   "cell_type": "markdown",
   "metadata": {},
   "source": [
    "### Train & test  model  - Linear Regression"
   ]
  },
  {
   "cell_type": "code",
   "execution_count": 4,
   "metadata": {},
   "outputs": [
    {
     "name": "stdout",
     "output_type": "stream",
     "text": [
      "Score (train) = 96.07%\n",
      "Score (test) = 64.78%\n"
     ]
    }
   ],
   "source": [
    "from sklearn.linear_model import LinearRegression\n",
    "linreg = LinearRegression()\n",
    "linreg.fit(X_train, y_train)\n",
    "print ('Score (train) = {}%'.format(np.around(linreg.score(X_train, y_train),decimals=4)*100))\n",
    "print ('Score (test) = {}%'.format(np.around(linreg.score(X_test, y_test),decimals=4)*100))\n",
    "val = X_test.iloc[:1,:]\n",
    "p1 = linreg.predict(val)\n",
    "p_linreg = linreg.predict(X_test)"
   ]
  },
  {
   "cell_type": "markdown",
   "metadata": {},
   "source": [
    "### Train & test model - Random Forrest Regressor"
   ]
  },
  {
   "cell_type": "code",
   "execution_count": 5,
   "metadata": {},
   "outputs": [
    {
     "name": "stderr",
     "output_type": "stream",
     "text": [
      "C:\\Users\\erb\\Anaconda3\\lib\\site-packages\\sklearn\\ensemble\\weight_boosting.py:29: DeprecationWarning: numpy.core.umath_tests is an internal NumPy module and should not be imported. It will be removed in a future NumPy release.\n",
      "  from numpy.core.umath_tests import inner1d\n",
      "C:\\Users\\erb\\Anaconda3\\lib\\site-packages\\ipykernel_launcher.py:3: DataConversionWarning: A column-vector y was passed when a 1d array was expected. Please change the shape of y to (n_samples,), for example using ravel().\n",
      "  This is separate from the ipykernel package so we can avoid doing imports until\n"
     ]
    },
    {
     "name": "stdout",
     "output_type": "stream",
     "text": [
      "Score (train) = 86.19%\n",
      "Score (test) = 80.97%\n"
     ]
    }
   ],
   "source": [
    "from sklearn.ensemble import RandomForestRegressor\n",
    "forrestreg = RandomForestRegressor(max_depth=2, random_state=0, n_estimators=100)\n",
    "forrestreg.fit(X_train, y_train)\n",
    "print ('Score (train) = {}%'.format(np.around(forrestreg.score(X_train, y_train),decimals=4)*100))\n",
    "print ('Score (test) = {}%'.format(np.around(forrestreg.score(X_test, y_test),decimals=4)*100))\n",
    "p_forrestreg = forrestreg.predict(X_test)"
   ]
  },
  {
   "cell_type": "markdown",
   "metadata": {},
   "source": [
    "### Train & test model - Gredient Boost Regressor"
   ]
  },
  {
   "cell_type": "code",
   "execution_count": 6,
   "metadata": {},
   "outputs": [
    {
     "name": "stderr",
     "output_type": "stream",
     "text": [
      "C:\\Users\\erb\\Anaconda3\\lib\\site-packages\\sklearn\\utils\\validation.py:578: DataConversionWarning: A column-vector y was passed when a 1d array was expected. Please change the shape of y to (n_samples, ), for example using ravel().\n",
      "  y = column_or_1d(y, warn=True)\n"
     ]
    },
    {
     "name": "stdout",
     "output_type": "stream",
     "text": [
      "Score (train) = 99.6%\n",
      "Score (test) = 87.56%\n"
     ]
    }
   ],
   "source": [
    "from sklearn import ensemble\n",
    "params = {'n_estimators': 500, 'max_depth': 4, 'min_samples_split': 2, 'learning_rate': 0.01, 'loss': 'ls'}\n",
    "gradboostreg = ensemble.GradientBoostingRegressor(**params)\n",
    "gradboostreg.fit(X_train, y_train)\n",
    "print ('Score (train) = {}%'.format(np.around(gradboostreg.score(X_train, y_train),decimals=4)*100))\n",
    "print ('Score (test) = {}%'.format(np.around(gradboostreg.score(X_test, y_test),decimals=4)*100))\n",
    "p_gradboostreg = gradboostreg.predict(X_test)"
   ]
  },
  {
   "cell_type": "markdown",
   "metadata": {},
   "source": [
    "### Train & test model - XGBoost"
   ]
  },
  {
   "cell_type": "code",
   "execution_count": 7,
   "metadata": {},
   "outputs": [
    {
     "name": "stdout",
     "output_type": "stream",
     "text": [
      "Score (train) = 98.4%\n",
      "Score (test) = 82.15%\n"
     ]
    }
   ],
   "source": [
    "import xgboost\n",
    "# xgb = xgboost.XGBRegressor()\n",
    "xgbreg = xgboost.XGBRegressor(n_estimators=100, learning_rate=0.08, gamma=0, subsample=0.75, colsample_bytree=1, max_depth=3)\n",
    "xgbreg.fit(X_train, y_train)\n",
    "print ('Score (train) = {}%'.format(np.around(xgbreg.score(X_train, y_train),decimals=4)*100))\n",
    "print ('Score (test) = {}%'.format(np.around(xgbreg.score(X_test, y_test),decimals=4)*100))\n",
    "p_xgbreg = xgbreg.predict(X_test)"
   ]
  },
  {
   "cell_type": "markdown",
   "metadata": {},
   "source": [
    "### Overall comparison of Regression Algos"
   ]
  },
  {
   "cell_type": "code",
   "execution_count": 8,
   "metadata": {},
   "outputs": [
    {
     "name": "stdout",
     "output_type": "stream",
     "text": [
      "Linear Regression Score (train) = 96.07%\n",
      "Linear Regression Score (test) = 64.78%\n",
      "\n",
      "\n",
      "Random Forrest Score (train) = 86.19%\n",
      "Random Forrest Score (test) = 80.97%\n",
      "\n",
      "\n",
      "Gradient Boost Score (train) = 99.6%\n",
      "Gradient Boost Score (test) = 87.56%\n",
      "\n",
      "\n",
      "XGBoost Score (train) = 98.4%\n",
      "XGBoost Score (test) = 82.15%\n"
     ]
    }
   ],
   "source": [
    "print ('Linear Regression Score (train) = {}%'.format(np.around(linreg.score(X_train, y_train),decimals=4)*100))\n",
    "print ('Linear Regression Score (test) = {}%'.format(np.around(linreg.score(X_test, y_test),decimals=4)*100))\n",
    "print ('\\n')\n",
    "print ('Random Forrest Score (train) = {}%'.format(np.around(forrestreg.score(X_train, y_train),decimals=4)*100))\n",
    "print ('Random Forrest Score (test) = {}%'.format(np.around(forrestreg.score(X_test, y_test),decimals=4)*100))\n",
    "print ('\\n')\n",
    "print ('Gradient Boost Score (train) = {}%'.format(np.around(gradboostreg.score(X_train, y_train),decimals=4)*100))\n",
    "print ('Gradient Boost Score (test) = {}%'.format(np.around(gradboostreg.score(X_test, y_test),decimals=4)*100))\n",
    "print ('\\n')\n",
    "print ('XGBoost Score (train) = {}%'.format(np.around(xgbreg.score(X_train, y_train),decimals=4)*100))\n",
    "print ('XGBoost Score (test) = {}%'.format(np.around(xgbreg.score(X_test, y_test),decimals=4)*100))"
   ]
  },
  {
   "cell_type": "markdown",
   "metadata": {},
   "source": [
    "### Vizualize data"
   ]
  },
  {
   "cell_type": "code",
   "execution_count": 9,
   "metadata": {},
   "outputs": [
    {
     "data": {
      "text/plain": [
       "array([<matplotlib.axes._subplots.AxesSubplot object at 0x000000000B2267F0>,\n",
       "       <matplotlib.axes._subplots.AxesSubplot object at 0x000000000B1DDC50>,\n",
       "       <matplotlib.axes._subplots.AxesSubplot object at 0x000000000BBF8D30>,\n",
       "       <matplotlib.axes._subplots.AxesSubplot object at 0x000000000BC292E8>],\n",
       "      dtype=object)"
      ]
     },
     "execution_count": 9,
     "metadata": {},
     "output_type": "execute_result"
    },
    {
     "data": {
      "image/png": "[encoded data removed]",
      "text/plain": [
       "<Figure size 1440x1440 with 4 Axes>"
      ]
     },
     "metadata": {
      "needs_background": "light"
     },
     "output_type": "display_data"
    }
   ],
   "source": [
    "# p_linreg  p_forrestreg   p_gradboostreg   p_xgbreg\n",
    "price_predict = y_test\n",
    "\n",
    "price_predict['prediction_linreg'] = p_linreg\n",
    "price_predict['predict_price_delta_linreg'] = ((price_predict['prediction_linreg'] - price_predict['price'])/price_predict['price'])*100\n",
    "# price_predict['predict_price_delta_linreg'].plot.bar(figsize=(20,5))\n",
    "price_predict['prediction_forrestreg'] = p_forrestreg\n",
    "price_predict['predict_price_delta_forrestreg'] = ((price_predict['prediction_forrestreg'] - price_predict['price'])/price_predict['price'])*100\n",
    "# price_predict['predict_price_delta_forrestreg'].plot.bar(figsize=(20,5))\n",
    "price_predict['prediction_gradboostreg'] = p_gradboostreg\n",
    "price_predict['predict_price_delta_gradboostreg'] = ((price_predict['prediction_gradboostreg'] - price_predict['price'])/price_predict['price'])*100\n",
    "# price_predict['predict_price_delta_gradboostreg'].plot.bar(figsize=(20,5))\n",
    "price_predict['prediction_forrestregp_xgbreg'] = p_xgbreg\n",
    "price_predict['predict_price_delta_forrestregp_xgbreg'] = ((price_predict['prediction_forrestregp_xgbreg'] - price_predict['price'])/price_predict['price'])*100\n",
    "# price_predict['predict_price_delta_forrestregp_xgbreg'].plot.bar(figsize=(20,5))\n",
    "price_predict_delta = price_predict[['predict_price_delta_linreg','predict_price_delta_forrestreg','predict_price_delta_gradboostreg',\\\n",
    "               'predict_price_delta_forrestregp_xgbreg']]\n",
    "price_predict_delta.plot.bar(rot=0, figsize=(20,20), subplots=True)"
   ]
  },
  {
   "cell_type": "code",
   "execution_count": null,
   "metadata": {},
   "outputs": [],
   "source": []
  }
 ],
 "metadata": {
  "kernelspec": {
   "display_name": "Python 3",
   "language": "python",
   "name": "python3"
  },
  "language_info": {
   "codemirror_mode": {
    "name": "ipython",
    "version": 3
   },
   "file_extension": ".py",
   "mimetype": "text/x-python",
   "name": "python",
   "nbconvert_exporter": "python",
   "pygments_lexer": "ipython3",
   "version": "3.7.0"
  }
 },
 "nbformat": 4,
 "nbformat_minor": 2
}
