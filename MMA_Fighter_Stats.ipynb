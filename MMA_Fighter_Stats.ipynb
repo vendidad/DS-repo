{
 "cells": [
  {
   "cell_type": "code",
   "execution_count": 1,
   "metadata": {},
   "outputs": [],
   "source": [
    "from string import ascii_lowercase\n",
    "import requests\n",
    "from bs4 import BeautifulSoup\n",
    "import pandas as pd\n",
    "import collections\n",
    "import re\n",
    "import csv"
   ]
  },
  {
   "cell_type": "markdown",
   "metadata": {},
   "source": [
    "### Get list of fighters & associated links to details"
   ]
  },
  {
   "cell_type": "code",
   "execution_count": null,
   "metadata": {},
   "outputs": [],
   "source": [
    "page_urls =[]\n",
    "fighters = {}\n",
    "\n",
    "fighter_base_url = 'http://www.fightmetric.com/statistics/fighters?char='\n",
    "for alphabet in ascii_lowercase:\n",
    "    page_urls.append('{}{}&page=all'.format(fighter_base_url,alphabet))\n",
    "\n",
    "page_urls_short = page_urls[0:2]\n",
    "\n",
    "for page_url in page_urls:\n",
    "    i = 2\n",
    "    r = requests.get(page_url)\n",
    "    soup = BeautifulSoup(r.text, 'html.parser')\n",
    "    fighter_ref_top = soup.find_all('tr', class_='b-statistics__table-row')\n",
    "    \n",
    "    while i < (len(fighter_ref_top)):\n",
    "        fighter_ref = fighter_ref_top[i].find_all('td', class_='b-statistics__table-col')\n",
    "        fighter_first = fighter_ref[0].text.strip(\"\\n\")\n",
    "        fighter_last = fighter_ref[1].text.strip(\"\\n\")\n",
    "        fighter_nick = fighter_ref[2].text.strip(\"\\n\")\n",
    "        fighter_name = '{} {}_{}'.format(fighter_first, fighter_last, fighter_nick)\n",
    "        fighter_url = fighter_ref[0].find('a')['href']\n",
    "        fighters[fighter_name] = fighter_url\n",
    "        i+=1"
   ]
  },
  {
   "cell_type": "markdown",
   "metadata": {},
   "source": [
    "### Write fighter reference pages (URLs) to CSV"
   ]
  },
  {
   "cell_type": "code",
   "execution_count": null,
   "metadata": {},
   "outputs": [],
   "source": [
    "csv_file = 'data/fighter_list.csv'\n",
    "with open (csv_file, 'w', newline='') as csvfile:\n",
    "    fighterwriter = csv.writer(csvfile, delimiter=',', quoting=csv.QUOTE_MINIMAL)\n",
    "    for key in fighters:\n",
    "        fighterwriter.writerow([key, fighters[key]])"
   ]
  },
  {
   "cell_type": "markdown",
   "metadata": {},
   "source": [
    "### Get fighter stats\n",
    "**\n",
    "SLpM - Significant Strikes Landed per Minute<br>\n",
    "Str. Acc. - Significant Striking Accuracy<br>\n",
    "SApM - Significant Strikes Absorbed per Minute<br>\n",
    "Str. Def. - Significant Strike Defence (the % of opponents strikes that did not land)<br>\n",
    "TD Avg. - Average Takedowns Landed per 15 minutes<br>\n",
    "TD Acc. - Takedown Accuracy<br>\n",
    "TD Def. - Takedown Defense (the % of opponents TD attempts that did not land)<br>\n",
    "Sub. Avg. - Average Submissions Attempted per 15 minutes<br>\n",
    "**"
   ]
  },
  {
   "cell_type": "code",
   "execution_count": null,
   "metadata": {},
   "outputs": [],
   "source": [
    "csv_file = 'data/fighter_list.csv'\n",
    "csv_file_out = 'data/fighter_details.csv'\n",
    "df = pd.read_csv(csv_file)\n",
    "# Breaking into smaller chunks\n",
    "fighters_1 = df['Fighter Name'][:]\n",
    "urls_1 = df['Fighter URL'][:]\n",
    "count = 0\n",
    "\n",
    "for url in urls_1:\n",
    "    r = requests.get(url)\n",
    "    soup = BeautifulSoup(r.text, 'html.parser')\n",
    "    fighter_record = soup.find('span', class_='b-content__title-record')\n",
    "    fighter_stats = soup.find_all('li', class_='b-list__box-list-item b-list__box-list-item_type_block')\n",
    "    fighter_attrbs = collections.OrderedDict([('HEIGHT', \"\"), ('WEIGHT', \"\"), ('REACH', \"\"), ('STANCE', \"\"), ('DOB', \"\"),\\\n",
    "                                              ('SLpM', \"\"), ('Str_Acc', \"\"), ('SApM', \"\"), ('Str_Def', \"\"), ('DUMMY', \"\"),\\\n",
    "                                              ('TD_Avg', \"\"), ('TD_Acc', \"\"), ('TD_Def', \"\"), ('Sub_Avg', \"\")])\n",
    "    \n",
    "    i=0\n",
    "    for key in fighter_attrbs:\n",
    "        fighter_attrbs[key] = re.split('\\n\\s*', fighter_stats[i].contents[2])[1]\n",
    "        i+=1\n",
    "    fighter_attrbs['RECORD'] = re.split(':\\s*',fighter_record.text)[1].rstrip()\n",
    "    \n",
    "    with open (csv_file_out, 'a', newline='') as csvfile:\n",
    "        fighterstats = csv.writer(csvfile, delimiter=',', quoting=csv.QUOTE_MINIMAL)\n",
    "        fighterstats.writerow([fighters_1[count], fighter_attrbs['RECORD'], fighter_attrbs['HEIGHT'], fighter_attrbs['WEIGHT'],\\\n",
    "                              fighter_attrbs['REACH'], fighter_attrbs['STANCE'], fighter_attrbs['DOB'],\\\n",
    "                             fighter_attrbs['SLpM'], fighter_attrbs['Str_Acc'], fighter_attrbs['SApM'], \\\n",
    "                             fighter_attrbs['Str_Def'], fighter_attrbs['TD_Avg'], fighter_attrbs['TD_Acc'], \\\n",
    "                             fighter_attrbs['TD_Def'], fighter_attrbs['Sub_Avg'], urls_1[count]])\n",
    "    count+=1"
   ]
  },
  {
   "cell_type": "code",
   "execution_count": 3,
   "metadata": {},
   "outputs": [],
   "source": [
    "df = pd.read_csv('data/fighter_details.csv')\n",
    "# df.head()"
   ]
  },
  {
   "cell_type": "markdown",
   "metadata": {},
   "source": [
    "### --------- Consolidated script ---------\n",
    "***Needs to be completed***"
   ]
  },
  {
   "cell_type": "code",
   "execution_count": null,
   "metadata": {},
   "outputs": [],
   "source": [
    "from string import ascii_lowercase\n",
    "import requests\n",
    "from bs4 import BeautifulSoup\n",
    "import pandas as pd\n",
    "import collections\n",
    "import re\n",
    "\n",
    "def get_fighter_stats(fighter_url):\n",
    "    r = requests.get(fighter_url)\n",
    "    soup = BeautifulSoup(r.text, 'html.parser')\n",
    "    \n",
    "    fighter_record = soup.find('span', class_='b-content__title-record')\n",
    "    fighter_stats = soup.find_all('li', class_='b-list__box-list-item b-list__box-list-item_type_block')\n",
    "    \n",
    "    '''\n",
    "    SLpM - Significant Strikes Landed per Minute\n",
    "    Str. Acc. - Significant Striking Accuracy\n",
    "    SApM - Significant Strikes Absorbed per Minute\n",
    "    Str. Def. - Significant Strike Defence (the % of opponents strikes that did not land)\n",
    "    TD Avg. - Average Takedowns Landed per 15 minutes\n",
    "    TD Acc. - Takedown Accuracy\n",
    "    TD Def. - Takedown Defense (the % of opponents TD attempts that did not land)\n",
    "    Sub. Avg. - Average Submissions Attempted per 15 minutes\n",
    "    '''\n",
    "    fighter_attrbs = collections.OrderedDict([('HEIGHT', \"\"), ('WEIGHT', \"\"), ('REACH', \"\"), ('STANCE', \"\"), ('DOB', \"\"),\\\n",
    "                                             ('SLpM', \"\"), ('Str_Acc', \"\"), ('SApM', \"\"), ('Str_Def', \"\"), ('DUMMY', \"\"),\\\n",
    "                                              ('TD_Avg', \"\"), ('TD_Acc', \"\"), ('TD_Def', \"\"), ('Sub_Avg', \"\")])\n",
    "    i=0\n",
    "    for key in fighter_attrbs:\n",
    "        fighter_attrbs[key] = re.split('\\n\\s*', fighter_stats[i].contents[2])[1]\n",
    "        i+=1\n",
    "    fighter_attrbs['RECORD'] = re.split(':\\s*',fighter_record.text)[1].rstrip()\n",
    "    return(fighter_attrbs)\n",
    "\n",
    "def get_fighter_list():\n",
    "    ############# Need to populate #############\n",
    "    pass\n",
    "\n",
    "def main():\n",
    "    fighter_list = get_fighter_list()\n",
    "#     fighter_attrbs = get_fighter_stats ('http://www.fightmetric.com/fighter-details/634e2fb70bde3fd5')\n",
    "#     print (fighter_attrbs['TD_Def'])\n",
    "        \n",
    "if __name__ == \"__main__\":\n",
    "    main()"
   ]
  },
  {
   "cell_type": "code",
   "execution_count": null,
   "metadata": {
    "collapsed": true
   },
   "outputs": [],
   "source": []
  }
 ],
 "metadata": {
  "anaconda-cloud": {},
  "kernelspec": {
   "display_name": "Python 3",
   "language": "python",
   "name": "python3"
  },
  "language_info": {
   "codemirror_mode": {
    "name": "ipython",
    "version": 3
   },
   "file_extension": ".py",
   "mimetype": "text/x-python",
   "name": "python",
   "nbconvert_exporter": "python",
   "pygments_lexer": "ipython3",
   "version": "3.6.4"
  }
 },
 "nbformat": 4,
 "nbformat_minor": 1
}
