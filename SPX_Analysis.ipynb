{
 "cells": [
  {
   "cell_type": "markdown",
   "metadata": {},
   "source": [
    "### Applying different models on SPX data - supervised learning "
   ]
  },
  {
   "cell_type": "code",
   "execution_count": 1,
   "metadata": {},
   "outputs": [],
   "source": [
    "import pandas as pd\n",
    "from sklearn.model_selection import train_test_split\n",
    "from sklearn.feature_extraction.text import CountVectorizer\n",
    "from sklearn.naive_bayes import MultinomialNB\n",
    "from sklearn.naive_bayes import GaussianNB\n",
    "from sklearn.svm import SVC\n",
    "from sklearn.linear_model import LogisticRegression\n",
    "from sklearn.neighbors import KNeighborsClassifier\n",
    "from sklearn.tree import DecisionTreeClassifier\n",
    "from sklearn. ensemble import GradientBoostingClassifier, RandomForestClassifier, BaggingClassifier, AdaBoostClassifier, VotingClassifier\n",
    "from sklearn.decomposition import PCA, TruncatedSVD\n",
    "from sklearn.feature_selection import SelectPercentile\n",
    "from sklearn import metrics"
   ]
  },
  {
   "cell_type": "markdown",
   "metadata": {},
   "source": [
    "### SPX Weekly "
   ]
  },
  {
   "cell_type": "code",
   "execution_count": 2,
   "metadata": {},
   "outputs": [
    {
     "data": {
      "text/html": [
       "<div>\n",
       "<style scoped>\n",
       "    .dataframe tbody tr th:only-of-type {\n",
       "        vertical-align: middle;\n",
       "    }\n",
       "\n",
       "    .dataframe tbody tr th {\n",
       "        vertical-align: top;\n",
       "    }\n",
       "\n",
       "    .dataframe thead th {\n",
       "        text-align: right;\n",
       "    }\n",
       "</style>\n",
       "<table border=\"1\" class=\"dataframe\">\n",
       "  <thead>\n",
       "    <tr style=\"text-align: right;\">\n",
       "      <th></th>\n",
       "      <th>Adj Close</th>\n",
       "      <th>Open</th>\n",
       "      <th>High</th>\n",
       "      <th>Low</th>\n",
       "      <th>Range</th>\n",
       "      <th>Volume</th>\n",
       "      <th>Unemp Claims</th>\n",
       "      <th>Ret Sales</th>\n",
       "      <th>Ind Prod</th>\n",
       "      <th>NFP</th>\n",
       "      <th>Direction</th>\n",
       "      <th>Direction_num</th>\n",
       "    </tr>\n",
       "    <tr>\n",
       "      <th>Date</th>\n",
       "      <th></th>\n",
       "      <th></th>\n",
       "      <th></th>\n",
       "      <th></th>\n",
       "      <th></th>\n",
       "      <th></th>\n",
       "      <th></th>\n",
       "      <th></th>\n",
       "      <th></th>\n",
       "      <th></th>\n",
       "      <th></th>\n",
       "      <th></th>\n",
       "    </tr>\n",
       "  </thead>\n",
       "  <tbody>\n",
       "    <tr>\n",
       "      <th>12/11/2017</th>\n",
       "      <td>2675.810059</td>\n",
       "      <td>2652.189941</td>\n",
       "      <td>2679.629883</td>\n",
       "      <td>2651.469971</td>\n",
       "      <td>28.159912</td>\n",
       "      <td>19343950000</td>\n",
       "      <td>0.0</td>\n",
       "      <td>0.0</td>\n",
       "      <td>0.0</td>\n",
       "      <td>0.0</td>\n",
       "      <td>U</td>\n",
       "      <td>1.0</td>\n",
       "    </tr>\n",
       "    <tr>\n",
       "      <th>12/18/2017</th>\n",
       "      <td>2683.340088</td>\n",
       "      <td>2685.919922</td>\n",
       "      <td>2694.969971</td>\n",
       "      <td>2676.110107</td>\n",
       "      <td>18.859864</td>\n",
       "      <td>16007500000</td>\n",
       "      <td>0.0</td>\n",
       "      <td>0.0</td>\n",
       "      <td>0.0</td>\n",
       "      <td>0.0</td>\n",
       "      <td>D</td>\n",
       "      <td>0.0</td>\n",
       "    </tr>\n",
       "    <tr>\n",
       "      <th>12/25/2017</th>\n",
       "      <td>2673.610107</td>\n",
       "      <td>2679.090088</td>\n",
       "      <td>2692.120117</td>\n",
       "      <td>2673.610107</td>\n",
       "      <td>18.510010</td>\n",
       "      <td>8767680000</td>\n",
       "      <td>0.0</td>\n",
       "      <td>0.0</td>\n",
       "      <td>0.0</td>\n",
       "      <td>0.0</td>\n",
       "      <td>U</td>\n",
       "      <td>1.0</td>\n",
       "    </tr>\n",
       "    <tr>\n",
       "      <th>1/1/2018</th>\n",
       "      <td>2743.149902</td>\n",
       "      <td>2683.729980</td>\n",
       "      <td>2743.449951</td>\n",
       "      <td>2682.360107</td>\n",
       "      <td>61.089844</td>\n",
       "      <td>13827790000</td>\n",
       "      <td>0.0</td>\n",
       "      <td>0.0</td>\n",
       "      <td>0.0</td>\n",
       "      <td>0.0</td>\n",
       "      <td>0</td>\n",
       "      <td>0.0</td>\n",
       "    </tr>\n",
       "    <tr>\n",
       "      <th>1/5/2018</th>\n",
       "      <td>2743.149902</td>\n",
       "      <td>2731.330078</td>\n",
       "      <td>2743.449951</td>\n",
       "      <td>2727.919922</td>\n",
       "      <td>15.530029</td>\n",
       "      <td>1998927821</td>\n",
       "      <td>0.0</td>\n",
       "      <td>0.0</td>\n",
       "      <td>0.0</td>\n",
       "      <td>0.0</td>\n",
       "      <td>0</td>\n",
       "      <td>0.0</td>\n",
       "    </tr>\n",
       "  </tbody>\n",
       "</table>\n",
       "</div>"
      ],
      "text/plain": [
       "              Adj Close         Open         High          Low      Range  \\\n",
       "Date                                                                        \n",
       "12/11/2017  2675.810059  2652.189941  2679.629883  2651.469971  28.159912   \n",
       "12/18/2017  2683.340088  2685.919922  2694.969971  2676.110107  18.859864   \n",
       "12/25/2017  2673.610107  2679.090088  2692.120117  2673.610107  18.510010   \n",
       "1/1/2018    2743.149902  2683.729980  2743.449951  2682.360107  61.089844   \n",
       "1/5/2018    2743.149902  2731.330078  2743.449951  2727.919922  15.530029   \n",
       "\n",
       "                 Volume  Unemp Claims  Ret Sales  Ind Prod  NFP Direction  \\\n",
       "Date                                                                        \n",
       "12/11/2017  19343950000           0.0        0.0       0.0  0.0         U   \n",
       "12/18/2017  16007500000           0.0        0.0       0.0  0.0         D   \n",
       "12/25/2017   8767680000           0.0        0.0       0.0  0.0         U   \n",
       "1/1/2018    13827790000           0.0        0.0       0.0  0.0         0   \n",
       "1/5/2018     1998927821           0.0        0.0       0.0  0.0         0   \n",
       "\n",
       "            Direction_num  \n",
       "Date                       \n",
       "12/11/2017            1.0  \n",
       "12/18/2017            0.0  \n",
       "12/25/2017            1.0  \n",
       "1/1/2018              0.0  \n",
       "1/5/2018              0.0  "
      ]
     },
     "execution_count": 2,
     "metadata": {},
     "output_type": "execute_result"
    }
   ],
   "source": [
    "df = pd.read_csv('data/spx_weekly.csv')\n",
    "df.set_index('Date', inplace=True)\n",
    "df['Direction_num'] = df.Direction.map({'D':0, 'U':1})\n",
    "df.fillna(0, inplace=True)\n",
    "# X = df[['Range', 'Volume', 'Unemp Claims', 'Ret Sales', 'Ind Prod', 'NFP']]\n",
    "X = df[['Range', 'Volume', 'Ret Sales']]\n",
    "y = df['Direction_num']\n",
    "df.tail()"
   ]
  },
  {
   "cell_type": "markdown",
   "metadata": {},
   "source": [
    "### SPX Daily"
   ]
  },
  {
   "cell_type": "code",
   "execution_count": 3,
   "metadata": {},
   "outputs": [
    {
     "data": {
      "text/html": [
       "<div>\n",
       "<style scoped>\n",
       "    .dataframe tbody tr th:only-of-type {\n",
       "        vertical-align: middle;\n",
       "    }\n",
       "\n",
       "    .dataframe tbody tr th {\n",
       "        vertical-align: top;\n",
       "    }\n",
       "\n",
       "    .dataframe thead th {\n",
       "        text-align: right;\n",
       "    }\n",
       "</style>\n",
       "<table border=\"1\" class=\"dataframe\">\n",
       "  <thead>\n",
       "    <tr style=\"text-align: right;\">\n",
       "      <th></th>\n",
       "      <th>Open</th>\n",
       "      <th>High</th>\n",
       "      <th>Low</th>\n",
       "      <th>Close</th>\n",
       "      <th>Volume</th>\n",
       "      <th>Range</th>\n",
       "      <th>MA21</th>\n",
       "      <th>MA50</th>\n",
       "      <th>Engulf</th>\n",
       "      <th>Direction</th>\n",
       "      <th>Direction_num</th>\n",
       "    </tr>\n",
       "    <tr>\n",
       "      <th>Date</th>\n",
       "      <th></th>\n",
       "      <th></th>\n",
       "      <th></th>\n",
       "      <th></th>\n",
       "      <th></th>\n",
       "      <th></th>\n",
       "      <th></th>\n",
       "      <th></th>\n",
       "      <th></th>\n",
       "      <th></th>\n",
       "      <th></th>\n",
       "    </tr>\n",
       "  </thead>\n",
       "  <tbody>\n",
       "    <tr>\n",
       "      <th>7/2/2007</th>\n",
       "      <td>1504.660034</td>\n",
       "      <td>1519.449951</td>\n",
       "      <td>1504.660034</td>\n",
       "      <td>1519.430054</td>\n",
       "      <td>2648990000</td>\n",
       "      <td>14.789917</td>\n",
       "      <td>1513.684286</td>\n",
       "      <td>1509.923398</td>\n",
       "      <td>0.0</td>\n",
       "      <td>U</td>\n",
       "      <td>1</td>\n",
       "    </tr>\n",
       "    <tr>\n",
       "      <th>7/3/2007</th>\n",
       "      <td>1519.119995</td>\n",
       "      <td>1526.010010</td>\n",
       "      <td>1519.119995</td>\n",
       "      <td>1524.869995</td>\n",
       "      <td>1560790000</td>\n",
       "      <td>6.890015</td>\n",
       "      <td>1513.002854</td>\n",
       "      <td>1510.802197</td>\n",
       "      <td>0.0</td>\n",
       "      <td>U</td>\n",
       "      <td>1</td>\n",
       "    </tr>\n",
       "    <tr>\n",
       "      <th>7/5/2007</th>\n",
       "      <td>1524.859985</td>\n",
       "      <td>1526.569946</td>\n",
       "      <td>1517.719971</td>\n",
       "      <td>1525.400024</td>\n",
       "      <td>2622950000</td>\n",
       "      <td>8.849975</td>\n",
       "      <td>1512.738572</td>\n",
       "      <td>1511.701997</td>\n",
       "      <td>1.0</td>\n",
       "      <td>U</td>\n",
       "      <td>1</td>\n",
       "    </tr>\n",
       "    <tr>\n",
       "      <th>7/6/2007</th>\n",
       "      <td>1524.959961</td>\n",
       "      <td>1532.400024</td>\n",
       "      <td>1520.469971</td>\n",
       "      <td>1530.439941</td>\n",
       "      <td>2441520000</td>\n",
       "      <td>11.930053</td>\n",
       "      <td>1513.360474</td>\n",
       "      <td>1512.402395</td>\n",
       "      <td>0.0</td>\n",
       "      <td>U</td>\n",
       "      <td>1</td>\n",
       "    </tr>\n",
       "    <tr>\n",
       "      <th>7/9/2007</th>\n",
       "      <td>1530.430054</td>\n",
       "      <td>1534.260010</td>\n",
       "      <td>1527.449951</td>\n",
       "      <td>1531.849976</td>\n",
       "      <td>2715330000</td>\n",
       "      <td>6.810059</td>\n",
       "      <td>1515.319045</td>\n",
       "      <td>1513.154395</td>\n",
       "      <td>0.0</td>\n",
       "      <td>D</td>\n",
       "      <td>0</td>\n",
       "    </tr>\n",
       "  </tbody>\n",
       "</table>\n",
       "</div>"
      ],
      "text/plain": [
       "                 Open         High          Low        Close      Volume  \\\n",
       "Date                                                                       \n",
       "7/2/2007  1504.660034  1519.449951  1504.660034  1519.430054  2648990000   \n",
       "7/3/2007  1519.119995  1526.010010  1519.119995  1524.869995  1560790000   \n",
       "7/5/2007  1524.859985  1526.569946  1517.719971  1525.400024  2622950000   \n",
       "7/6/2007  1524.959961  1532.400024  1520.469971  1530.439941  2441520000   \n",
       "7/9/2007  1530.430054  1534.260010  1527.449951  1531.849976  2715330000   \n",
       "\n",
       "              Range         MA21         MA50  Engulf Direction  Direction_num  \n",
       "Date                                                                            \n",
       "7/2/2007  14.789917  1513.684286  1509.923398     0.0         U              1  \n",
       "7/3/2007   6.890015  1513.002854  1510.802197     0.0         U              1  \n",
       "7/5/2007   8.849975  1512.738572  1511.701997     1.0         U              1  \n",
       "7/6/2007  11.930053  1513.360474  1512.402395     0.0         U              1  \n",
       "7/9/2007   6.810059  1515.319045  1513.154395     0.0         D              0  "
      ]
     },
     "execution_count": 3,
     "metadata": {},
     "output_type": "execute_result"
    }
   ],
   "source": [
    "pd.options.mode.chained_assignment = None\n",
    "df = pd.read_csv('data/spx_daily.csv')\n",
    "df.set_index('Date', inplace=True)\n",
    "# df_red = df.iloc[12330:]\n",
    "df_red = df.iloc[14465:]\n",
    "df_red['Direction_num'] = df_red.Direction.map({'D':0, 'U':1})\n",
    "df_red.fillna(0, inplace=True)\n",
    "X = df_red[['Open', 'High', 'Low', 'Close', 'Volume', 'Range', 'MA21', 'MA50', 'Engulf']]\n",
    "y = df_red['Direction_num']\n",
    "df_red.head()\n",
    "# df_red.describe()"
   ]
  },
  {
   "cell_type": "code",
   "execution_count": 4,
   "metadata": {},
   "outputs": [],
   "source": [
    "X_train, X_test, y_train, y_test = train_test_split(X, y, test_size=0.33, random_state=10)\n",
    "# print(y_train.shape)\n",
    "# print(y_test.shape)"
   ]
  },
  {
   "cell_type": "markdown",
   "metadata": {},
   "source": [
    "### Dimensionality Reduction - 1"
   ]
  },
  {
   "cell_type": "code",
   "execution_count": 5,
   "metadata": {},
   "outputs": [
    {
     "name": "stdout",
     "output_type": "stream",
     "text": [
      "tree - Test data accuracy = 49.83%\n",
      "tree - Training data accuracy = 100.00%\n",
      "(1774, 9)\n",
      "tree - Test data accuracy = 50.86%\n",
      "tree - Training data accuracy = 100.00%\n",
      "(1774, 2)\n"
     ]
    }
   ],
   "source": [
    "X_train, X_test, y_train, y_test = train_test_split(X, y, test_size=0.33, random_state=10)\n",
    "\n",
    "tree = DecisionTreeClassifier()\n",
    "tree.fit (X_train, y_train)\n",
    "print ('tree - Test data accuracy = {:.2f}%'.format(tree.score (X_test, y_test)*100))\n",
    "print ('tree - Training data accuracy = {:.2f}%'.format(tree.score (X_train, y_train)*100))\n",
    "print (X_train.shape)\n",
    "\n",
    "pca = PCA(n_components=2, whiten='True')\n",
    "X_dimred = pca.fit(X).transform(X)\n",
    "pca.explained_variance_\n",
    "\n",
    "X_train, X_test, y_train, y_test = train_test_split(X_dimred, y, test_size=0.33, random_state=10)\n",
    "\n",
    "tree = DecisionTreeClassifier()\n",
    "tree.fit (X_train, y_train)\n",
    "print ('tree - Test data accuracy = {:.2f}%'.format(tree.score (X_test, y_test)*100))\n",
    "print ('tree - Training data accuracy = {:.2f}%'.format(tree.score (X_train, y_train)*100))\n",
    "print (X_train.shape)"
   ]
  },
  {
   "cell_type": "markdown",
   "metadata": {},
   "source": [
    "### Dimensionality Reduction - 2"
   ]
  },
  {
   "cell_type": "code",
   "execution_count": 6,
   "metadata": {},
   "outputs": [
    {
     "name": "stdout",
     "output_type": "stream",
     "text": [
      "tree - Test data accuracy = 50.97%\n",
      "tree - Training data accuracy = 100.00%\n",
      "(1774, 9)\n",
      "tree - Test data accuracy = 48.91%\n"
     ]
    },
    {
     "ename": "ValueError",
     "evalue": "Number of features of the model must match the input. Model n_features is 4 and input n_features is 9 ",
     "output_type": "error",
     "traceback": [
      "\u001b[1;31m---------------------------------------------------------------------------\u001b[0m",
      "\u001b[1;31mValueError\u001b[0m                                Traceback (most recent call last)",
      "\u001b[1;32m<ipython-input-6-0312ffa7ba64>\u001b[0m in \u001b[0;36m<module>\u001b[1;34m()\u001b[0m\n\u001b[0;32m     17\u001b[0m \u001b[0mtree\u001b[0m\u001b[1;33m.\u001b[0m\u001b[0mfit\u001b[0m \u001b[1;33m(\u001b[0m\u001b[0mX_train_selected\u001b[0m\u001b[1;33m,\u001b[0m \u001b[0my_train\u001b[0m\u001b[1;33m)\u001b[0m\u001b[1;33m\u001b[0m\u001b[0m\n\u001b[0;32m     18\u001b[0m \u001b[0mprint\u001b[0m \u001b[1;33m(\u001b[0m\u001b[1;34m'tree - Test data accuracy = {:.2f}%'\u001b[0m\u001b[1;33m.\u001b[0m\u001b[0mformat\u001b[0m\u001b[1;33m(\u001b[0m\u001b[0mtree\u001b[0m\u001b[1;33m.\u001b[0m\u001b[0mscore\u001b[0m \u001b[1;33m(\u001b[0m\u001b[0mX_test_selected\u001b[0m\u001b[1;33m,\u001b[0m \u001b[0my_test\u001b[0m\u001b[1;33m)\u001b[0m\u001b[1;33m*\u001b[0m\u001b[1;36m100\u001b[0m\u001b[1;33m)\u001b[0m\u001b[1;33m)\u001b[0m\u001b[1;33m\u001b[0m\u001b[0m\n\u001b[1;32m---> 19\u001b[1;33m \u001b[0mprint\u001b[0m \u001b[1;33m(\u001b[0m\u001b[1;34m'tree - Training data accuracy = {:.2f}%'\u001b[0m\u001b[1;33m.\u001b[0m\u001b[0mformat\u001b[0m\u001b[1;33m(\u001b[0m\u001b[0mtree\u001b[0m\u001b[1;33m.\u001b[0m\u001b[0mscore\u001b[0m \u001b[1;33m(\u001b[0m\u001b[0mX_train\u001b[0m\u001b[1;33m,\u001b[0m \u001b[0my_train\u001b[0m\u001b[1;33m)\u001b[0m\u001b[1;33m*\u001b[0m\u001b[1;36m100\u001b[0m\u001b[1;33m)\u001b[0m\u001b[1;33m)\u001b[0m\u001b[1;33m\u001b[0m\u001b[0m\n\u001b[0m",
      "\u001b[1;32m~\\Anaconda3\\lib\\site-packages\\sklearn\\base.py\u001b[0m in \u001b[0;36mscore\u001b[1;34m(self, X, y, sample_weight)\u001b[0m\n\u001b[0;32m    347\u001b[0m         \"\"\"\n\u001b[0;32m    348\u001b[0m         \u001b[1;32mfrom\u001b[0m \u001b[1;33m.\u001b[0m\u001b[0mmetrics\u001b[0m \u001b[1;32mimport\u001b[0m \u001b[0maccuracy_score\u001b[0m\u001b[1;33m\u001b[0m\u001b[0m\n\u001b[1;32m--> 349\u001b[1;33m         \u001b[1;32mreturn\u001b[0m \u001b[0maccuracy_score\u001b[0m\u001b[1;33m(\u001b[0m\u001b[0my\u001b[0m\u001b[1;33m,\u001b[0m \u001b[0mself\u001b[0m\u001b[1;33m.\u001b[0m\u001b[0mpredict\u001b[0m\u001b[1;33m(\u001b[0m\u001b[0mX\u001b[0m\u001b[1;33m)\u001b[0m\u001b[1;33m,\u001b[0m \u001b[0msample_weight\u001b[0m\u001b[1;33m=\u001b[0m\u001b[0msample_weight\u001b[0m\u001b[1;33m)\u001b[0m\u001b[1;33m\u001b[0m\u001b[0m\n\u001b[0m\u001b[0;32m    350\u001b[0m \u001b[1;33m\u001b[0m\u001b[0m\n\u001b[0;32m    351\u001b[0m \u001b[1;33m\u001b[0m\u001b[0m\n",
      "\u001b[1;32m~\\Anaconda3\\lib\\site-packages\\sklearn\\tree\\tree.py\u001b[0m in \u001b[0;36mpredict\u001b[1;34m(self, X, check_input)\u001b[0m\n\u001b[0;32m    410\u001b[0m         \"\"\"\n\u001b[0;32m    411\u001b[0m         \u001b[0mcheck_is_fitted\u001b[0m\u001b[1;33m(\u001b[0m\u001b[0mself\u001b[0m\u001b[1;33m,\u001b[0m \u001b[1;34m'tree_'\u001b[0m\u001b[1;33m)\u001b[0m\u001b[1;33m\u001b[0m\u001b[0m\n\u001b[1;32m--> 412\u001b[1;33m         \u001b[0mX\u001b[0m \u001b[1;33m=\u001b[0m \u001b[0mself\u001b[0m\u001b[1;33m.\u001b[0m\u001b[0m_validate_X_predict\u001b[0m\u001b[1;33m(\u001b[0m\u001b[0mX\u001b[0m\u001b[1;33m,\u001b[0m \u001b[0mcheck_input\u001b[0m\u001b[1;33m)\u001b[0m\u001b[1;33m\u001b[0m\u001b[0m\n\u001b[0m\u001b[0;32m    413\u001b[0m         \u001b[0mproba\u001b[0m \u001b[1;33m=\u001b[0m \u001b[0mself\u001b[0m\u001b[1;33m.\u001b[0m\u001b[0mtree_\u001b[0m\u001b[1;33m.\u001b[0m\u001b[0mpredict\u001b[0m\u001b[1;33m(\u001b[0m\u001b[0mX\u001b[0m\u001b[1;33m)\u001b[0m\u001b[1;33m\u001b[0m\u001b[0m\n\u001b[0;32m    414\u001b[0m         \u001b[0mn_samples\u001b[0m \u001b[1;33m=\u001b[0m \u001b[0mX\u001b[0m\u001b[1;33m.\u001b[0m\u001b[0mshape\u001b[0m\u001b[1;33m[\u001b[0m\u001b[1;36m0\u001b[0m\u001b[1;33m]\u001b[0m\u001b[1;33m\u001b[0m\u001b[0m\n",
      "\u001b[1;32m~\\Anaconda3\\lib\\site-packages\\sklearn\\tree\\tree.py\u001b[0m in \u001b[0;36m_validate_X_predict\u001b[1;34m(self, X, check_input)\u001b[0m\n\u001b[0;32m    382\u001b[0m                              \u001b[1;34m\"match the input. Model n_features is %s and \"\u001b[0m\u001b[1;33m\u001b[0m\u001b[0m\n\u001b[0;32m    383\u001b[0m                              \u001b[1;34m\"input n_features is %s \"\u001b[0m\u001b[1;33m\u001b[0m\u001b[0m\n\u001b[1;32m--> 384\u001b[1;33m                              % (self.n_features_, n_features))\n\u001b[0m\u001b[0;32m    385\u001b[0m \u001b[1;33m\u001b[0m\u001b[0m\n\u001b[0;32m    386\u001b[0m         \u001b[1;32mreturn\u001b[0m \u001b[0mX\u001b[0m\u001b[1;33m\u001b[0m\u001b[0m\n",
      "\u001b[1;31mValueError\u001b[0m: Number of features of the model must match the input. Model n_features is 4 and input n_features is 9 "
     ]
    }
   ],
   "source": [
    "X_train, X_test, y_train, y_test = train_test_split(X, y, test_size=0.33, random_state=10)\n",
    "\n",
    "tree = DecisionTreeClassifier()\n",
    "tree.fit (X_train, y_train)\n",
    "print ('tree - Test data accuracy = {:.2f}%'.format(tree.score (X_test, y_test)*100))\n",
    "print ('tree - Training data accuracy = {:.2f}%'.format(tree.score (X_train, y_train)*100))\n",
    "print (X_train.shape)\n",
    "\n",
    "select = SelectPercentile(percentile=50)\n",
    "select.fit(X_train, y_train)\n",
    "X_train_selected = select.transform(X_train)\n",
    "X_test_selected = select.transform(X_test)\n",
    "\n",
    "# X_train, X_test, y_train, y_test = train_test_split(X_dimred, y, test_size=0.33, random_state=10)\n",
    "\n",
    "tree = DecisionTreeClassifier()\n",
    "tree.fit (X_train_selected, y_train)\n",
    "print ('tree - Test data accuracy = {:.2f}%'.format(tree.score (X_test_selected, y_test)*100))\n",
    "print ('tree - Training data accuracy = {:.2f}%'.format(tree.score (X_train, y_train)*100))"
   ]
  },
  {
   "cell_type": "markdown",
   "metadata": {},
   "source": [
    "### All Models"
   ]
  },
  {
   "cell_type": "code",
   "execution_count": 7,
   "metadata": {},
   "outputs": [
    {
     "name": "stdout",
     "output_type": "stream",
     "text": [
      "MNB - Test data accuracy = 46.51%\n",
      "MNB - Training data accuracy = 51.13%\n",
      "-----------------------------\n",
      "SVC - Test data accuracy = 54.51%\n",
      "SVC - Training data accuracy = 99.72%\n",
      "-----------------------------\n",
      "Rand_forerst - Test data accuracy = 50.51%\n",
      "Rand_forerst - Training data accuracy = 97.86%\n",
      "-----------------------------\n",
      "logreg - Test data accuracy = 54.51%\n",
      "logreg - Training data accuracy = 54.00%\n",
      "-----------------------------\n",
      "knn - Test data accuracy = 51.77%\n",
      "knn - Training data accuracy = 100.00%\n",
      "-----------------------------\n",
      "tree - Test data accuracy = 51.09%\n",
      "tree - Training data accuracy = 100.00%\n",
      "-----------------------------\n",
      "gboost - Test data accuracy = 48.57%\n",
      "gboost - Training data accuracy = 75.37%\n",
      "-----------------------------\n",
      "bg - Test data accuracy = 54.51%\n",
      "bg - Training data accuracy = 63.42%\n",
      "-----------------------------\n",
      "adb - Test data accuracy = 51.20%\n",
      "adb - Training data accuracy = 100.00%\n",
      "-----------------------------\n"
     ]
    },
    {
     "name": "stderr",
     "output_type": "stream",
     "text": [
      "C:\\Users\\edulji\\Anaconda3\\lib\\site-packages\\sklearn\\preprocessing\\label.py:151: DeprecationWarning: The truth value of an empty array is ambiguous. Returning False, but in future this will result in an error. Use `array.size > 0` to check that an array is not empty.\n",
      "  if diff:\n"
     ]
    },
    {
     "name": "stdout",
     "output_type": "stream",
     "text": [
      "evc - Test data accuracy = 54.51%\n",
      "evc - Training data accuracy = 99.72%\n",
      "-----------------------------\n"
     ]
    },
    {
     "name": "stderr",
     "output_type": "stream",
     "text": [
      "C:\\Users\\edulji\\Anaconda3\\lib\\site-packages\\sklearn\\preprocessing\\label.py:151: DeprecationWarning: The truth value of an empty array is ambiguous. Returning False, but in future this will result in an error. Use `array.size > 0` to check that an array is not empty.\n",
      "  if diff:\n"
     ]
    }
   ],
   "source": [
    "mnb = MultinomialNB()\n",
    "mnb.fit (X_train, y_train)\n",
    "print ('MNB - Test data accuracy = {:.2f}%'.format(mnb.score (X_test, y_test)*100))\n",
    "print ('MNB - Training data accuracy = {:.2f}%'.format(mnb.score (X_train, y_train)*100))\n",
    "print ('-----------------------------')\n",
    "svc = SVC()\n",
    "svc.fit (X_train, y_train)\n",
    "print ('SVC - Test data accuracy = {:.2f}%'.format(svc.score (X_test, y_test)*100))\n",
    "print ('SVC - Training data accuracy = {:.2f}%'.format(svc.score (X_train, y_train)*100))\n",
    "print ('-----------------------------')\n",
    "rand_forrest = RandomForestClassifier()\n",
    "rand_forrest.fit (X_train, y_train)\n",
    "print ('Rand_forerst - Test data accuracy = {:.2f}%'.format(rand_forrest.score (X_test, y_test)*100))\n",
    "print ('Rand_forerst - Training data accuracy = {:.2f}%'.format(rand_forrest.score (X_train, y_train)*100))\n",
    "print ('-----------------------------')\n",
    "logreg = LogisticRegression()\n",
    "logreg.fit (X_train, y_train)\n",
    "print ('logreg - Test data accuracy = {:.2f}%'.format(logreg.score (X_test, y_test)*100))\n",
    "print ('logreg - Training data accuracy = {:.2f}%'.format(logreg.score (X_train, y_train)*100))\n",
    "print ('-----------------------------')\n",
    "knn = KNeighborsClassifier(n_neighbors=1)\n",
    "knn.fit (X_train, y_train)\n",
    "y_pred_class = knn.predict (X_test)\n",
    "print ('knn - Test data accuracy = {:.2f}%'.format(knn.score (X_test, y_test)*100))\n",
    "print ('knn - Training data accuracy = {:.2f}%'.format(knn.score (X_train, y_train)*100))\n",
    "print ('-----------------------------')\n",
    "tree = DecisionTreeClassifier()\n",
    "tree.fit (X_train, y_train)\n",
    "print ('tree - Test data accuracy = {:.2f}%'.format(tree.score (X_test, y_test)*100))\n",
    "print ('tree - Training data accuracy = {:.2f}%'.format(tree.score (X_train, y_train)*100))\n",
    "print ('-----------------------------')\n",
    "gboost = GradientBoostingClassifier()\n",
    "gboost.fit (X_train, y_train)\n",
    "print ('gboost - Test data accuracy = {:.2f}%'.format(gboost.score (X_test, y_test)*100))\n",
    "print ('gboost - Training data accuracy = {:.2f}%'.format(gboost.score (X_train, y_train)*100))\n",
    "print ('-----------------------------')\n",
    "# bg = BaggingClassifier(DecisionTreeClassifier(), max_samples= 0.5, max_features = 1.0, n_estimators = 20, oob_score=True)\n",
    "bg = BaggingClassifier(svc, max_samples= 0.5, max_features = 1.0, n_estimators = 20, oob_score=True)\n",
    "# bg = BaggingClassifier(knn, max_samples= 0.5, max_features = 2, n_jobs= 2, oob_score=True)\n",
    "bg.fit(X_train,y_train)\n",
    "print ('bg - Test data accuracy = {:.2f}%'.format(bg.score (X_test, y_test)*100))\n",
    "print ('bg - Training data accuracy = {:.2f}%'.format(bg.score (X_train, y_train)*100))\n",
    "print ('-----------------------------')\n",
    "adb = AdaBoostClassifier(DecisionTreeClassifier(),n_estimators = 5, learning_rate = 1)\n",
    "adb.fit(X_train,y_train)\n",
    "print ('adb - Test data accuracy = {:.2f}%'.format(adb.score (X_test, y_test)*100))\n",
    "print ('adb - Training data accuracy = {:.2f}%'.format(adb.score (X_train, y_train)*100))\n",
    "print ('-----------------------------')\n",
    "mnb = MultinomialNB()\n",
    "svm = SVC()\n",
    "# svm = SVC(kernel = 'poly', degree = 2 )\n",
    "rf = RandomForestClassifier()\n",
    "lr = LogisticRegression()\n",
    "knn = KNeighborsClassifier()\n",
    "dt = DecisionTreeClassifier()\n",
    "gb = GradientBoostingClassifier()\n",
    "evc = VotingClassifier( estimators= [('svm',svm),('lr',lr)], voting = 'hard')\n",
    "evc.fit(X_train,y_train)\n",
    "print ('evc - Test data accuracy = {:.2f}%'.format(evc.score (X_test, y_test)*100))\n",
    "print ('evc - Training data accuracy = {:.2f}%'.format(evc.score (X_train, y_train)*100))\n",
    "print ('-----------------------------')\n",
    "# pca = PCA(n_components=5, whiten=True)\n",
    "# pca.fit(X_train, y_train)\n",
    "# print ('pca - Test data accuracy = {:.2f}%'.format(pca.score (X_test, y_test)*100))\n",
    "# print ('pca - Training data accuracy = {:.2f}%'.format(pca.score (X_train, y_train)*100))"
   ]
  },
  {
   "cell_type": "markdown",
   "metadata": {},
   "source": [
    "### Multinominal Naive Bayes\n",
    "***Added y_pred_class for prediction***"
   ]
  },
  {
   "cell_type": "code",
   "execution_count": 8,
   "metadata": {},
   "outputs": [
    {
     "name": "stdout",
     "output_type": "stream",
     "text": [
      "Training data accuracy = 46.51%\n",
      "Test data accuracy = 46.51%\n",
      "Training data accuracy = 51.13%\n"
     ]
    }
   ],
   "source": [
    "mnb = MultinomialNB()\n",
    "mnb.fit (X_train, y_train)\n",
    "y_pred_class = mnb.predict (X_test)\n",
    "print ('Training data accuracy = {:.2f}%'.format(metrics.accuracy_score (y_test, y_pred_class)*100))\n",
    "print ('Test data accuracy = {:.2f}%'.format(mnb.score (X_test, y_test)*100))\n",
    "print ('Training data accuracy = {:.2f}%'.format(mnb.score (X_train, y_train)*100))"
   ]
  },
  {
   "cell_type": "markdown",
   "metadata": {},
   "source": [
    "### Gaussian Naive Bayes"
   ]
  },
  {
   "cell_type": "code",
   "execution_count": 9,
   "metadata": {},
   "outputs": [
    {
     "name": "stdout",
     "output_type": "stream",
     "text": [
      "Test data accuracy = 46.51%\n",
      "Training data accuracy = 51.13%\n"
     ]
    }
   ],
   "source": [
    "gnb = MultinomialNB()\n",
    "gnb.fit (X_train, y_train)\n",
    "print ('Test data accuracy = {:.2f}%'.format(gnb.score (X_test, y_test)*100))\n",
    "print ('Training data accuracy = {:.2f}%'.format(gnb.score (X_train, y_train)*100))"
   ]
  },
  {
   "cell_type": "markdown",
   "metadata": {},
   "source": [
    "### Support Vector Machine"
   ]
  },
  {
   "cell_type": "code",
   "execution_count": 10,
   "metadata": {},
   "outputs": [
    {
     "name": "stdout",
     "output_type": "stream",
     "text": [
      "Test data accuracy = 54.51%\n",
      "Training data accuracy = 99.72%\n"
     ]
    }
   ],
   "source": [
    "svc = SVC()\n",
    "svc.fit (X_train, y_train)\n",
    "print ('Test data accuracy = {:.2f}%'.format(svc.score (X_test, y_test)*100))\n",
    "print ('Training data accuracy = {:.2f}%'.format(svc.score (X_train, y_train)*100))"
   ]
  },
  {
   "cell_type": "markdown",
   "metadata": {},
   "source": [
    "### Random Forrest"
   ]
  },
  {
   "cell_type": "code",
   "execution_count": 11,
   "metadata": {},
   "outputs": [
    {
     "name": "stdout",
     "output_type": "stream",
     "text": [
      "Test data accuracy = 49.49%\n",
      "Training data accuracy = 97.97%\n"
     ]
    }
   ],
   "source": [
    "rand_forrest = RandomForestClassifier()\n",
    "rand_forrest.fit (X_train, y_train)\n",
    "print ('Test data accuracy = {:.2f}%'.format(rand_forrest.score (X_test, y_test)*100))\n",
    "print ('Training data accuracy = {:.2f}%'.format(rand_forrest.score (X_train, y_train)*100))"
   ]
  },
  {
   "cell_type": "markdown",
   "metadata": {},
   "source": [
    "### Logistic Regression"
   ]
  },
  {
   "cell_type": "code",
   "execution_count": 12,
   "metadata": {},
   "outputs": [
    {
     "name": "stdout",
     "output_type": "stream",
     "text": [
      "Test data accuracy = 54.51%\n",
      "Training data accuracy = 54.00%\n"
     ]
    }
   ],
   "source": [
    "logreg = LogisticRegression()\n",
    "logreg.fit (X_train, y_train)\n",
    "print ('Test data accuracy = {:.2f}%'.format(logreg.score (X_test, y_test)*100))\n",
    "print ('Training data accuracy = {:.2f}%'.format(logreg.score (X_train, y_train)*100))"
   ]
  },
  {
   "cell_type": "markdown",
   "metadata": {},
   "source": [
    "### KNeighborsClassifier"
   ]
  },
  {
   "cell_type": "code",
   "execution_count": 13,
   "metadata": {},
   "outputs": [
    {
     "name": "stdout",
     "output_type": "stream",
     "text": [
      "Test data accuracy = 50.51%\n",
      "Training data accuracy = 68.94%\n"
     ]
    }
   ],
   "source": [
    "knn = KNeighborsClassifier()\n",
    "knn.fit (X_train, y_train)\n",
    "y_pred_class = knn.predict (X_test)\n",
    "print ('Test data accuracy = {:.2f}%'.format(knn.score (X_test, y_test)*100))\n",
    "print ('Training data accuracy = {:.2f}%'.format(knn.score (X_train, y_train)*100))"
   ]
  },
  {
   "cell_type": "markdown",
   "metadata": {},
   "source": [
    "### Decision Tree"
   ]
  },
  {
   "cell_type": "code",
   "execution_count": 14,
   "metadata": {},
   "outputs": [
    {
     "name": "stdout",
     "output_type": "stream",
     "text": [
      "Test data accuracy = 52.34%\n",
      "Training data accuracy = 100.00%\n"
     ]
    }
   ],
   "source": [
    "tree = DecisionTreeClassifier()\n",
    "tree.fit (X_train, y_train)\n",
    "print ('Test data accuracy = {:.2f}%'.format(tree.score (X_test, y_test)*100))\n",
    "print ('Training data accuracy = {:.2f}%'.format(tree.score (X_train, y_train)*100))"
   ]
  },
  {
   "cell_type": "markdown",
   "metadata": {},
   "source": [
    "### Gradient Boosting"
   ]
  },
  {
   "cell_type": "code",
   "execution_count": 15,
   "metadata": {},
   "outputs": [
    {
     "name": "stdout",
     "output_type": "stream",
     "text": [
      "Test data accuracy = 48.57%\n",
      "Training data accuracy = 75.37%\n"
     ]
    }
   ],
   "source": [
    "gboost = GradientBoostingClassifier()\n",
    "gboost.fit (X_train, y_train)\n",
    "print ('Test data accuracy = {:.2f}%'.format(gboost.score (X_test, y_test)*100))\n",
    "print ('Training data accuracy = {:.2f}%'.format(gboost.score (X_train, y_train)*100))"
   ]
  },
  {
   "cell_type": "markdown",
   "metadata": {
    "collapsed": true
   },
   "source": [
    "### Bagging"
   ]
  },
  {
   "cell_type": "code",
   "execution_count": 16,
   "metadata": {},
   "outputs": [
    {
     "name": "stdout",
     "output_type": "stream",
     "text": [
      "Test data accuracy = 49.71%\n",
      "Training data accuracy = 94.08%\n"
     ]
    }
   ],
   "source": [
    "bg = BaggingClassifier(DecisionTreeClassifier(), max_samples= 0.5, max_features = 1.0, n_estimators = 20)\n",
    "bg.fit(X_train,y_train)\n",
    "print ('Test data accuracy = {:.2f}%'.format(bg.score (X_test, y_test)*100))\n",
    "print ('Training data accuracy = {:.2f}%'.format(bg.score (X_train, y_train)*100))"
   ]
  },
  {
   "cell_type": "markdown",
   "metadata": {},
   "source": [
    "### Boosting - ADA Boost"
   ]
  },
  {
   "cell_type": "code",
   "execution_count": 17,
   "metadata": {},
   "outputs": [
    {
     "name": "stdout",
     "output_type": "stream",
     "text": [
      "Test data accuracy = 50.97%\n",
      "Training data accuracy = 100.00%\n"
     ]
    }
   ],
   "source": [
    "adb = AdaBoostClassifier(DecisionTreeClassifier(),n_estimators = 5, learning_rate = 1)\n",
    "adb.fit(X_train,y_train)\n",
    "print ('Test data accuracy = {:.2f}%'.format(adb.score (X_test, y_test)*100))\n",
    "print ('Training data accuracy = {:.2f}%'.format(adb.score (X_train, y_train)*100))"
   ]
  },
  {
   "cell_type": "markdown",
   "metadata": {},
   "source": [
    "### Voting Classifier - Multiple Model Ensemble"
   ]
  },
  {
   "cell_type": "code",
   "execution_count": 18,
   "metadata": {},
   "outputs": [
    {
     "name": "stderr",
     "output_type": "stream",
     "text": [
      "C:\\Users\\edulji\\Anaconda3\\lib\\site-packages\\sklearn\\preprocessing\\label.py:151: DeprecationWarning: The truth value of an empty array is ambiguous. Returning False, but in future this will result in an error. Use `array.size > 0` to check that an array is not empty.\n",
      "  if diff:\n"
     ]
    },
    {
     "name": "stdout",
     "output_type": "stream",
     "text": [
      "Test data accuracy = 54.51%\n",
      "Training data accuracy = 99.72%\n"
     ]
    },
    {
     "name": "stderr",
     "output_type": "stream",
     "text": [
      "C:\\Users\\edulji\\Anaconda3\\lib\\site-packages\\sklearn\\preprocessing\\label.py:151: DeprecationWarning: The truth value of an empty array is ambiguous. Returning False, but in future this will result in an error. Use `array.size > 0` to check that an array is not empty.\n",
      "  if diff:\n"
     ]
    }
   ],
   "source": [
    "mnb = MultinomialNB()\n",
    "svm = SVC()\n",
    "# svm = SVC(kernel = 'poly', degree = 2 )\n",
    "rf = RandomForestClassifier()\n",
    "lr = LogisticRegression()\n",
    "knn = KNeighborsClassifier()\n",
    "dt = DecisionTreeClassifier()\n",
    "gb = GradientBoostingClassifier()\n",
    "\n",
    "evc = VotingClassifier( estimators= [('svm',svm),('lr',lr)], voting = 'hard')\n",
    "evc.fit(X_train,y_train)\n",
    "print ('Test data accuracy = {:.2f}%'.format(evc.score (X_test, y_test)*100))\n",
    "print ('Training data accuracy = {:.2f}%'.format(evc.score (X_train, y_train)*100))"
   ]
  },
  {
   "cell_type": "code",
   "execution_count": null,
   "metadata": {},
   "outputs": [],
   "source": []
  }
 ],
 "metadata": {
  "anaconda-cloud": {},
  "kernelspec": {
   "display_name": "Python 3",
   "language": "python",
   "name": "python3"
  },
  "language_info": {
   "codemirror_mode": {
    "name": "ipython",
    "version": 3
   },
   "file_extension": ".py",
   "mimetype": "text/x-python",
   "name": "python",
   "nbconvert_exporter": "python",
   "pygments_lexer": "ipython3",
   "version": "3.7.0"
  }
 },
 "nbformat": 4,
 "nbformat_minor": 1
}
